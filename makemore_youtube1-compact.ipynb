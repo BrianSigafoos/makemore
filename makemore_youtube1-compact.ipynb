{
 "cells": [
  {
   "cell_type": "markdown",
   "metadata": {},
   "source": [
    "###  makemore demo - YouTube follow along\n",
    "\n",
    "[Video - The spelled-out intro to language modeling: building makemore](https://www.youtube.com/watch?v=PaCmpygFfXo&list=PLAqhIrjkxbuWI23v9cThsA9GvCAUhRvKZ&index=2)"
   ]
  },
  {
   "cell_type": "code",
   "execution_count": 2,
   "metadata": {},
   "outputs": [
    {
     "name": "stdout",
     "output_type": "stream",
     "text": [
      "mor.\n",
      "axx.\n",
      "minaymoryles.\n",
      "kondlaisah.\n",
      "anchshizarie.\n"
     ]
    }
   ],
   "source": [
    "import torch\n",
    "\n",
    "# data set: 32k first names\n",
    "words = open('names.txt', 'r').read().splitlines()\n",
    "chars = sorted(list(set(''.join(words))))\n",
    "\n",
    "# s to i lookup, setting `.` as 0 index in array and all others + 1\n",
    "# we'll use `.` to mark the start and end of all words\n",
    "stoi = {s: i+1 for i, s in enumerate(chars)}\n",
    "stoi['.'] = 0\n",
    "\n",
    "# i to s lookup\n",
    "itos = {i: s for s, i in stoi.items()}\n",
    "\n",
    "# Create a 27x27 matrix with values all set to 0\n",
    "N = torch.zeros((27, 27), dtype=torch.int32)\n",
    "\n",
    "# Get the counts\n",
    "for w in words:\n",
    "  # use `.` to mark the start and end of all words\n",
    "  chs = ['.'] + list(w) + ['.']\n",
    "  for ch1, ch2 in zip(chs, chs[1:]):\n",
    "    # integer index of this character in stoi 0-27\n",
    "    ix1 = stoi[ch1]\n",
    "    ix2 = stoi[ch2]\n",
    "    N[ix1, ix2] += 1\n",
    "\n",
    "# prepare probabilities, parameters of our bigram language model -\n",
    "P = N.float()\n",
    "# 27, 27\n",
    "# 27, 1  # This is \"broadcastable\" and it stretches the 1 into all 27 rows\n",
    "# https://pytorch.org/docs/stable/notes/broadcasting.html?highlight=broadcasting\n",
    "\n",
    "# Below uses `/=` to avoid creating new tensor, ie more efficient\n",
    "P /= P.sum(1, keepdim=True)\n",
    "\n",
    "g = torch.Generator().manual_seed(2147483647)\n",
    "\n",
    "for i in range(5):\n",
    "  out = []\n",
    "  ix = 0\n",
    "  while True:\n",
    "    p = P[ix]\n",
    "    ix = torch.multinomial(\n",
    "        p, num_samples=1, replacement=True, generator=g).item()\n",
    "    out.append(itos[ix])\n",
    "    # Break with `.` is found, marking the end of the word\n",
    "    if ix == 0:\n",
    "      break\n",
    "\n",
    "  print(''.join(out))\n"
   ]
  },
  {
   "cell_type": "code",
   "execution_count": null,
   "metadata": {},
   "outputs": [],
   "source": []
  }
 ],
 "metadata": {
  "kernelspec": {
   "display_name": "Python 3.9.15 64-bit ('3.9.15')",
   "language": "python",
   "name": "python3"
  },
  "language_info": {
   "codemirror_mode": {
    "name": "ipython",
    "version": 3
   },
   "file_extension": ".py",
   "mimetype": "text/x-python",
   "name": "python",
   "nbconvert_exporter": "python",
   "pygments_lexer": "ipython3",
   "version": "3.9.15"
  },
  "orig_nbformat": 4,
  "vscode": {
   "interpreter": {
    "hash": "6dbec04a431f157b103533e84207c2f49dc4e813632efce31ad46431e6a7d537"
   }
  }
 },
 "nbformat": 4,
 "nbformat_minor": 2
}
